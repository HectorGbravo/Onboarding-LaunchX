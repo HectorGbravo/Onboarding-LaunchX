{
 "cells": [
  {
   "cell_type": "markdown",
   "metadata": {},
   "source": [
    "### Módulo 8 - Administrar datos con diccionarios\n",
    "\n",
    "Ejercicio 1: Creación de diccionarios de Python\n",
    "Ejercicio: Crear y modificar un diccionario de Python\n",
    "Los diccionarios python te permiten modelar datos más complejos. Los diccionarios son una colección de pares clave/valor, y son muy comunes en los programas Python. Su flexibilidad le permite trabajar dinámicamente con valores relacionados sin tener que crear clases u objetos.\n",
    "\n",
    "Un diccionario se indica en Python mediante el uso de llaves ({ }), con pares clave/valor separados por dos puntos (:). Las claves son literales de cadena y los valores pueden ser de cualquier tipo de datos.{ }:"
   ]
  },
  {
   "cell_type": "code",
   "execution_count": 4,
   "metadata": {},
   "outputs": [
    {
     "name": "stdout",
     "output_type": "stream",
     "text": [
      "El planeta Marte tiene 2 lunas\n"
     ]
    }
   ],
   "source": [
    "# Para este ejercicio, crearás un diccionario que almacene información sobre el planeta Marte.\n",
    "# Agrega el código para crear un nuevo diccionario denominado 'planet'. Rellena con la siguiente información:\n",
    "# name: Mars\n",
    "# moons: 2\n",
    "planeta = {\n",
    "    'nombrePlaneta' : 'Marte',\n",
    "    'lunas' : 2\n",
    "}\n",
    "\n",
    "# Para recuperar valores, puede utilizar el método get o corchetes ([ ]) \n",
    "# con el nombre de la clave que desea recuperar.\n",
    "\n",
    "print(f\"El planeta {planeta['nombrePlaneta']} tiene {planeta['lunas']} lunas\")"
   ]
  },
  {
   "cell_type": "code",
   "execution_count": 7,
   "metadata": {},
   "outputs": [
    {
     "name": "stdout",
     "output_type": "stream",
     "text": [
      "El planeta Marte tiene una circunferencia polar de 6752 kms\n"
     ]
    }
   ],
   "source": [
    "# Puedes actualizar las claves existentes o crear otras nuevas utilizando el método update o entre corchetes ([ ]). \n",
    "# Cuando se usa update, se pasa un nuevo objeto de diccionario con los valores actualizados o nuevos. \n",
    "# Cuando se usan corchetes, se especifica el nombre de la clave y se asigna un nuevo valor.\n",
    "\n",
    "# demo['new_key'] = 'New value'\n",
    "# Agrega un nuevo valor con una clave de 'circunferencia (km)'. \n",
    "# Este nuevo valor debería almacenar un diccionario con las dos circunferencias del planeta:\n",
    "\n",
    "# polar: 6752\n",
    "# equatorial: 6792\n",
    "# Agrega la clave circunferencia con los datos proporcionados previamente\n",
    "\n",
    "planeta['circunferencia (km)'] = {\n",
    "    'polar': 6752,\n",
    "    'ecuatorial': 6792\n",
    "}\n",
    "\n",
    "# Imprime el nombre del planeta con su circunferencia polar.\n",
    "\n",
    "print(f\"El planeta {planeta['nombrePlaneta']} tiene una circunferencia polar de {planeta['circunferencia (km)']['polar']} kms\")\n"
   ]
  },
  {
   "cell_type": "markdown",
   "metadata": {},
   "source": [
    "## Ejercicio 2: Programación dinámica con diccionarios\n",
    "\n",
    "Ejercicio: Cálculo de valores\n",
    "En este escenario, calcularás tanto el número total de lunas en el sistema solar como el número promedio de lunas que tiene un planeta."
   ]
  },
  {
   "cell_type": "code",
   "execution_count": 8,
   "metadata": {},
   "outputs": [
    {
     "name": "stdout",
     "output_type": "stream",
     "text": [
      "El número total de lunas es de: 214\n",
      "El promedio de lunas es de: 17.833333333333332\n"
     ]
    }
   ],
   "source": [
    "# Planetas y lunas\n",
    "\n",
    "planeta_lunas = {\n",
    "    'mercurio': 0,\n",
    "    'venus': 0,\n",
    "    'tierra': 1,\n",
    "    'marte': 2,\n",
    "    'jupiter': 79,\n",
    "    'saturno': 82,\n",
    "    'uranos': 27,\n",
    "    'neptuno': 14,\n",
    "    'pluton': 5,\n",
    "    'haumea': 2,\n",
    "    'makemake': 1,\n",
    "    'eris': 1\n",
    "}\n",
    "\n",
    "#Los diccionarios de Python te permiten recuperar todos los valores y claves \n",
    "# utilizando los métodos values y keys, respectivamente. \n",
    "# Cada método devuelve una lista que contiene los datos, que luego se puede usar como una lista normal de Python. \n",
    "# Puedes determinar el número de elementos mediante len, e iterar a través de él mediante un ciclo for.\n",
    "# Agrega el código a continuación para determinar el número de lunas. \n",
    "# Comienza almacenando el valor values de planeta_lunas en una variable denominada lunas. \n",
    "# A continuación, almacena el número de planetas en una variable denominada numPlanetas.\n",
    "\n",
    "# Añade el código para determinar el número de lunas.\n",
    "\n",
    "lunas = planeta_lunas.values()\n",
    "numPlanetas = len(planeta_lunas.keys())\n",
    "\n",
    "total_lunas = 0\n",
    "for luna in lunas:\n",
    "    total_lunas = total_lunas + luna\n",
    "\n",
    "promedio_lunas = total_lunas / numPlanetas\n",
    "\n",
    "print(f\"El número total de lunas es de: {total_lunas}\")\n",
    "print(f\"El promedio de lunas es de: {promedio_lunas}\")\n",
    "\n",
    "\n",
    "\n"
   ]
  }
 ],
 "metadata": {
  "interpreter": {
   "hash": "99679c7bdf2971132091734e01a4b094f10e5a3c524bca2f59a40708d912caf0"
  },
  "kernelspec": {
   "display_name": "Python 3.10.2 64-bit (windows store)",
   "language": "python",
   "name": "python3"
  },
  "language_info": {
   "codemirror_mode": {
    "name": "ipython",
    "version": 3
   },
   "file_extension": ".py",
   "mimetype": "text/x-python",
   "name": "python",
   "nbconvert_exporter": "python",
   "pygments_lexer": "ipython3",
   "version": "3.10.2"
  },
  "orig_nbformat": 4
 },
 "nbformat": 4,
 "nbformat_minor": 2
}
