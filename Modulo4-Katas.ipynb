{
 "cells": [
  {
   "cell_type": "markdown",
   "metadata": {},
   "source": [
    "## Modulo 4 - Cadenas\n",
    "\n",
    "### Ejercicio l Transformar cadenas\n",
    "\n",
    "Hay varias operaciones que puedes realizar en las cadenas cuando las manipulamos. En este ejercicio, usarás métodos de cadena para modificar el texto con hechos sobre la Luna y luego extraerás información para crear un breve resumen."
   ]
  },
  {
   "cell_type": "code",
   "execution_count": 3,
   "metadata": {},
   "outputs": [
    {
     "data": {
      "text/plain": [
       "['Interesting facts about the Moon',\n",
       " \"The Moon is Earth's only satellite\",\n",
       " 'There are several interesting facts about the Moon and how it affects life here on Earth',\n",
       " 'On average, the Moon moves 4cm away from the Earth every year',\n",
       " 'This yearly drift is not significant enough to cause immediate effects on Earth',\n",
       " 'The highest daylight temperature of the Moon is 127 C.']"
      ]
     },
     "execution_count": 3,
     "metadata": {},
     "output_type": "execute_result"
    }
   ],
   "source": [
    "text = \"\"\"Interesting facts about the Moon. The Moon is Earth's only satellite. There are several interesting facts about the Moon and how it affects life here on Earth. On average, the Moon moves 4cm away from the Earth every year. This yearly drift is not significant enough to cause immediate effects on Earth. The highest daylight temperature of the Moon is 127 C.\"\"\"\n",
    "## Primero, divide el texto en cada oración para trabajar con su contenido:\n",
    "textoDividido = text.split('. ')\n",
    "textoDividido"
   ]
  },
  {
   "cell_type": "code",
   "execution_count": 5,
   "metadata": {},
   "outputs": [
    {
     "name": "stdout",
     "output_type": "stream",
     "text": [
      "On average, the Moon moves 4cm away from the Earth every year\n",
      "This yearly drift is not significant enough to cause immediate effects on Earth\n",
      "The highest daylight temperature of the Moon is 127 C.\n"
     ]
    }
   ],
   "source": [
    "# Ahora, define algunas palabras clave para búsqueda que te ayudarán a determinar si una oración contiene un hecho.\n",
    "# Define las palabras pista: average, temperature, distance y effects suenan bien\n",
    "\n",
    "palabrasClave = ['average', 'temperature', 'distance','effects']\n",
    "for frase in textoDividido:\n",
    "    for clave in palabrasClave:\n",
    "        if clave in frase:\n",
    "            print(frase)\n",
    "            break"
   ]
  },
  {
   "cell_type": "code",
   "execution_count": 6,
   "metadata": {},
   "outputs": [
    {
     "name": "stdout",
     "output_type": "stream",
     "text": [
      "On average, the Moon moves 4cm away from the Earth every year\n",
      "This yearly drift is not significant enough to cause immediate effects on Earth\n",
      "The highest daylight temperature of the Moon is 127 Celsius.\n"
     ]
    }
   ],
   "source": [
    "#Finalmente, actualiza el bucle(ciclo) para cambiar C a Celsius:\n",
    "\n",
    "palabrasClave = ['average', 'temperature', 'distance','effects']\n",
    "for frase in textoDividido:\n",
    "    for clave in palabrasClave:\n",
    "        if clave in frase:\n",
    "            print(frase.replace(' C', ' Celsius'))\n",
    "            break"
   ]
  },
  {
   "cell_type": "markdown",
   "metadata": {},
   "source": [
    "## Ejercicio 2. Formateando cadenas\n",
    "\n",
    "Saber cómo dar formato a las cadenas es esencial cuando se presenta información de un programa. Hay algunas maneras diferentes de lograr esto en Python. En este ejercicio, se utilizan variables que contienen datos clave sobre la gravedad en varias lunas y luego se utilizan para dar formato e imprimir la información.\n",
    "\n",
    "El formato tiene que acomodar información sobre otras lunas, por lo que debe ser genérico.\n",
    "\n",
    "En lugar de reemplazar las variables en una cadena larga como parte de un párrafo, utiliza la información para presentarla en un formato tabular. El resultado debería verse así:\n",
    "\n",
    "### Gravity Facts about Ganymede\n",
    "-------------------------------------------------------------------------------\n",
    "\n",
    "Planet Name: Mars\n",
    "\n",
    "Gravity on Ganymede: 1.4300000000000002 m/s2\n"
   ]
  },
  {
   "cell_type": "code",
   "execution_count": 45,
   "metadata": {},
   "outputs": [
    {
     "name": "stdout",
     "output_type": "stream",
     "text": [
      "Datos Sobre La Gravedad En El Satélite Denominado Luna\n",
      "    ----------------------------------------\n",
      "    Nombre del Planeta: Tierra\n",
      "    Gravedad en Luna: 1.6199999999999999 m/s2\n",
      "    \n",
      "\n",
      "    \n",
      "Datos Sobre La Gravedad En El Satélite Denominado Fobos\n",
      "    ----------------------------------------\n",
      "    Nombre del Planeta: Marte\n",
      "    Gravedad en Fobos: 5.7 m/s2\n",
      "    \n",
      "\n",
      "    \n",
      "Datos Sobre La Gravedad En El Satélite Denominado Europa\n",
      "    ----------------------------------------\n",
      "    Nombre del Planeta: Jupiter\n",
      "    Gravedad en Europa: 1315.0 m/s2\n",
      "    \n",
      "\n",
      "    \n",
      "Datos Sobre La Gravedad En El Satélite Denominado Titán\n",
      "    ----------------------------------------\n",
      "    Nombre del Planeta: Saturno\n",
      "    Gravedad en Titán: 1352.0 m/s2\n",
      "    \n",
      "\n",
      "    \n"
     ]
    }
   ],
   "source": [
    "# Datos iniciales de trabajo\n",
    "satelite = [\"Luna\", \"Fobos\", \"Europa\", \"Titán\"]\n",
    "gravedad = [0.00162, 0.0057,  1.315, 1.352] # en kms\n",
    "planeta = [\"Tierra\", \"Marte\", \"Jupiter\", \"Saturno\"]\n",
    "\n",
    "## Primero, crea un título para el texto. Debido a que este texto trata sobre la gravedad en la Tierra y la Luna, \n",
    "## úsalo para crear un título significativo. Utiliza las variables en lugar de escribir.\n",
    "\n",
    "## Ahora crea una plantilla de cadena multilínea para contener el resto de la información. \n",
    "## En lugar de usar kilómetros, debes convertir la distancia a metros multiplicando por 1,000.\n",
    " \n",
    "for i in satelite:\n",
    "    pos = satelite.index(i)\n",
    "    luna = satelite[pos]\n",
    "    mundo = planeta[pos]\n",
    "    gravity = gravedad[pos]*1000\n",
    "    encabezado = f'Datos sobre la gravedad en el satélite denominado {luna}'\n",
    "    datos = f\"\"\"{'-'*40}\n",
    "    Nombre del Planeta: {mundo}\n",
    "    Gravedad en {luna}: {gravity} m/s2\n",
    "    \"\"\"\n",
    "    formato = f\"\"\"{encabezado.title()}\n",
    "    {datos}\n",
    "\n",
    "    \"\"\" \n",
    "    ### print(formato)\n",
    "    print(formato.format(luna=luna, mundo=mundo, gravedad=gravedad*1000))\n",
    "\n",
    "\n"
   ]
  }
 ],
 "metadata": {
  "interpreter": {
   "hash": "99679c7bdf2971132091734e01a4b094f10e5a3c524bca2f59a40708d912caf0"
  },
  "kernelspec": {
   "display_name": "Python 3.10.2 64-bit (windows store)",
   "language": "python",
   "name": "python3"
  },
  "language_info": {
   "codemirror_mode": {
    "name": "ipython",
    "version": 3
   },
   "file_extension": ".py",
   "mimetype": "text/x-python",
   "name": "python",
   "nbconvert_exporter": "python",
   "pygments_lexer": "ipython3",
   "version": "3.10.2"
  },
  "orig_nbformat": 4
 },
 "nbformat": 4,
 "nbformat_minor": 2
}
