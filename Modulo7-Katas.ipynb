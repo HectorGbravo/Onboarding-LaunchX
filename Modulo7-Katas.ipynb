{
 "cells": [
  {
   "cell_type": "markdown",
   "metadata": {},
   "source": [
    "## Modulo 7 Estructuras de control\n",
    "\n",
    "Ejercicio 1: Creación de un bucle \"while\"\n",
    "\n",
    "Ejercicio 1: Uso de ciclos while en Python\n",
    "\n",
    "En Python, los ciclos while te permiten ejecutar código un número desconocido de veces. Los ciclos examinan una condición booleana y, siempre que la condición sea verdadera, se ejecutará el código dentro del ciclo. Esto es muy útil para situaciones como solicitar valores a un usuario."
   ]
  },
  {
   "cell_type": "code",
   "execution_count": 12,
   "metadata": {},
   "outputs": [],
   "source": [
    "## En este ejercicio, estás creando una aplicación que solicita a un usuario que ingrese una lista de planetas. \n",
    "# En un ejercicio posterior, agregarás código que muestre la lista. \n",
    "# Por ahora, crearás solo el código que solicita al usuario la lista de planetas.\n",
    "# Comienza agregando dos variables, una para la entrada del usuario, con el nombre new_planet, \n",
    "# y otra variable para la lista de planetas, denominada planets.\n",
    "\n",
    "new_planet = \"\"\n",
    "planets = []\n",
    "\n",
    "# Crea un ciclo while\n",
    "# Comenzando con las variables que acabas de crear, crearás un ciclo while. \n",
    "# El ciclo while se ejecutará mientras el new_planet no sea igual a la palabra 'done'.\n",
    "# Dentro del ciclo, comprobarás si la variable new_planet contiene un valor, \n",
    "# que debería ser el nombre de un planeta. \n",
    "# Esta es una forma rápida de ver si el usuario ha introducido un valor. \n",
    "# Si lo han hecho, tu código agregará (append) ese valor a la variable planets.\n",
    "# Finalmente, usarás input para solicitar al usuario que ingrese un nuevo nombre de planeta \n",
    "# o que escriba done si ha terminado de ingresar nombres de planeta. \n",
    "# Almacenará el valor de input en la variable new_planet.\n",
    "\n",
    "while new_planet.lower() != \"done\":\n",
    "    if new_planet:\n",
    "        planets.append(new_planet)\n",
    "    new_planet = input(\"Agregue un nuevo planeta o escriba la palabra done para terminar\")\n",
    "\n",
    "\n"
   ]
  },
  {
   "cell_type": "markdown",
   "metadata": {},
   "source": [
    "## Ejercicio 2: Creación de un ciclo \"for\"\n",
    "\n",
    "Ejercicio: - Ciclo para una lista\n",
    "\n",
    "En el ejercicio anterior, creaste código para solicitar a los usuarios que introduzcan una lista de nombres de planetas. En este ejercicio, completarás la aplicación escribiendo código que muestre los nombres de esos planetas."
   ]
  },
  {
   "cell_type": "code",
   "execution_count": 15,
   "metadata": {},
   "outputs": [
    {
     "name": "stdout",
     "output_type": "stream",
     "text": [
      "Los planetas introducidos por el usuario son: \n",
      "\n",
      "Mercurio\n",
      "Venus\n",
      "Tierra\n",
      "Marte\n",
      "Jupiter\n",
      "Saturno\n",
      "Urano\n",
      "Neptuno\n"
     ]
    }
   ],
   "source": [
    "# Mostrar la lista de los planetas\n",
    "# La variable planets almacena los nombres de planeta que ha introducido un usuario. \n",
    "# Ahora usarás un ciclo para mostrar esas entradas.\n",
    "# Crea un ciclo for para iterar sobre la lista planets.\n",
    "# Puedes usar como nombre de la variable planet para cada planeta. \n",
    "# Dentro del ciclo for, recuerda utilizar print para mostrar cada planet.\n",
    "\n",
    "print('Los planetas introducidos por el usuario son: \\n')\n",
    "for planet in planets:\n",
    "    indice = planets.index(planet)\n",
    "    print (planets[indice])"
   ]
  }
 ],
 "metadata": {
  "interpreter": {
   "hash": "99679c7bdf2971132091734e01a4b094f10e5a3c524bca2f59a40708d912caf0"
  },
  "kernelspec": {
   "display_name": "Python 3.10.2 64-bit (windows store)",
   "language": "python",
   "name": "python3"
  },
  "language_info": {
   "codemirror_mode": {
    "name": "ipython",
    "version": 3
   },
   "file_extension": ".py",
   "mimetype": "text/x-python",
   "name": "python",
   "nbconvert_exporter": "python",
   "pygments_lexer": "ipython3",
   "version": "3.10.2"
  },
  "orig_nbformat": 4
 },
 "nbformat": 4,
 "nbformat_minor": 2
}
