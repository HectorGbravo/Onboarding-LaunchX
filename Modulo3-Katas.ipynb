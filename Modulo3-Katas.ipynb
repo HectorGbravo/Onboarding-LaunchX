{
 "cells": [
  {
   "cell_type": "markdown",
   "metadata": {},
   "source": [
    "## Módulo 3 - Usar lógica booleana"
   ]
  },
  {
   "cell_type": "markdown",
   "metadata": {},
   "source": [
    "### Ejercicio 1\n",
    "Para este ejercicio, se debe escribir una lógica condicional que imprima una advertencia si un asteroide se acerca a la Tierra demasiado rápido. La velocidad del asteroide varía dependiendo de lo cerca que esté del sol, y cualquier velocidad superior a 25 kilómetros por segundo (km/s) merece una advertencia.\n",
    "\n",
    "Un asteroide se acerca, y viaja a una velocidad de 49 km/s."
   ]
  },
  {
   "cell_type": "code",
   "execution_count": 3,
   "metadata": {},
   "outputs": [
    {
     "name": "stdout",
     "output_type": "stream",
     "text": [
      "Atención población del mundo. Un asteroide se acerca a 49 km/s. Deben dar seguimiento\n"
     ]
    }
   ],
   "source": [
    "velocidadAsteroide = 49\n",
    "if velocidadAsteroide > 25:\n",
    "    print( f'Atención población del mundo. Un asteroide se acerca a {velocidadAsteroide} km/s. Deben dar seguimiento')\n",
    "else:\n",
    "    print( 'Todo bien en la Tierra. Lindo día')"
   ]
  },
  {
   "cell_type": "markdown",
   "metadata": {},
   "source": [
    "### Ejercicio 2\n",
    "Si un asteroide entra en la atmósfera de la Tierra a una velocidad mayor o igual a 20 km/s, a veces produce un rayo de luz que se puede ver desde la Tierra. Escribe la lógica condicional que usa declaraciones if, else, y elif para alertar a las personas de todo el mundo que deben buscar un asteroide en el cielo. ¡Hay uno que se dirige a la tierra ahora a una velocidad de 19 km/s!"
   ]
  },
  {
   "cell_type": "code",
   "execution_count": 4,
   "metadata": {},
   "outputs": [
    {
     "name": "stdout",
     "output_type": "stream",
     "text": [
      "Todo bien en la Tierra. Lindo día\n"
     ]
    }
   ],
   "source": [
    "velocidadAsteroide = 19\n",
    "if velocidadAsteroide > 20:\n",
    "    print('¡Se ha detectado un rayo de luz en el cielo!')\n",
    "elif velocidadAsteroide == 20:\n",
    "    print('¡Se ha detectado un rayo de luz en el cielo!')\n",
    "else:\n",
    "    print('Todo bien en la Tierra. Lindo día')"
   ]
  },
  {
   "cell_type": "markdown",
   "metadata": {},
   "source": [
    "### Ejercicio 3\n",
    "En este ejercicio, elaborar un programa que indique cuándo los asteroides representan un peligro para la Tierra, y utilizar esa información para mejorar nuestro sistema de advertencia. Aquí está la nueva información que necesitas saber:\n",
    "\n",
    "*Los asteroides de menos de 25 metros en su dimensión más grande probablemente se quemarán a medida que entren en la atmósfera de la Tierra.\n",
    "\n",
    "Si una pieza de un asteroide que es más grande que 25 metros pero más pequeña que 1000 metros golpeara la Tierra, causaría mucho daño.\n",
    "También discutimos en el ejercicio anterior que:\n",
    "\n",
    "La velocidad del asteroide varía en función de lo cerca que esté del sol, y cualquier velocidad superior a 25 kilómetros por segundo (km/s) merece una advertencia.\n",
    "Si un asteroide entra en la atmósfera de la Tierra a una velocidad mayor o igual a 20 km/s, a veces produce un rayo de luz que se puede ver desde la Tierra."
   ]
  },
  {
   "cell_type": "code",
<<<<<<< HEAD
   "execution_count": 9,
=======
   "execution_count": 8,
>>>>>>> eafee1eadd9df9d86077649e60490f17bb6ffecf
   "metadata": {},
   "outputs": [
    {
     "name": "stdout",
     "output_type": "stream",
     "text": [
<<<<<<< HEAD
      "¡Alerta, un asteroide de 50 metros con velocidad de 50 m/s se acerca a la Tierra!\n"
=======
      "¡Alerta, un asteroide de 50 metros con velocidad de 50 m/s se acerca a la Tierra\n"
>>>>>>> eafee1eadd9df9d86077649e60490f17bb6ffecf
     ]
    }
   ],
   "source": [
    "velocidadAsteroide = int(input('¿Qué velocidad tiene el asteroide?:'))\n",
    "dimensionAsteroide = int(input('¿Qué tamaño tiene el asteroide:?'))\n",
    "if velocidadAsteroide > 25 and dimensionAsteroide > 25:\n",
    "    print( f'¡Alerta, un asteroide de {dimensionAsteroide} metros con velocidad de {velocidadAsteroide} m/s se acerca a la Tierra!')\n",
    "elif velocidadAsteroide >= 20:\n",
    "    print('¡Se ha detectado un rayo de luz en el cielo!')\n",
    "elif dimensionAsteroide < 25:\n",
    "    print('Todo bien en la Tierra. Lindo día :)')\n",
    "else:\n",
    "    print('Todo bien en la Tierra. Lindo día :)')"
   ]
  }
 ],
 "metadata": {
  "interpreter": {
   "hash": "38fdf571286d74aeb083117972e47e9c804f04d89e4d59500f587c2a3fcf85d5"
  },
  "kernelspec": {
   "display_name": "Python 3.10.2 ('env': venv)",
   "language": "python",
   "name": "python3"
  },
  "language_info": {
   "codemirror_mode": {
    "name": "ipython",
    "version": 3
   },
   "file_extension": ".py",
   "mimetype": "text/x-python",
   "name": "python",
   "nbconvert_exporter": "python",
   "pygments_lexer": "ipython3",
   "version": "3.10.2"
  },
  "orig_nbformat": 4
 },
 "nbformat": 4,
 "nbformat_minor": 2
}
