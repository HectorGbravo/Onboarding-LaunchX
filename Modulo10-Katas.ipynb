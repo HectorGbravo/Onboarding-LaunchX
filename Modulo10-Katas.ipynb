{
 "cells": [
  {
   "cell_type": "markdown",
   "metadata": {},
   "source": [
    "### Módulo 10 - Manejo de errores\n"
   ]
  },
  {
   "cell_type": "code",
   "execution_count": 2,
   "metadata": {},
   "outputs": [
    {
     "name": "stdout",
     "output_type": "stream",
     "text": [
      "No pude localizar el archivo config.txt\n"
     ]
    }
   ],
   "source": [
    "# primer ejercicio utilizando try y except\n",
    "\n",
    "try:\n",
    "    open('config.txt')\n",
    "except FileNotFoundError:\n",
    "    print(\"No pude localizar el archivo config.txt\")\n"
   ]
  },
  {
   "cell_type": "code",
   "execution_count": 4,
   "metadata": {},
   "outputs": [
    {
     "name": "stdout",
     "output_type": "stream",
     "text": [
      "No pude localizar el archivo config.txt\n"
     ]
    }
   ],
   "source": [
    "# Segundo ejercicio\n",
    "\n",
    "def main():\n",
    "    try:\n",
    "        configuracion = open('config.txt')\n",
    "    except FileNotFoundError:\n",
    "        print(\"No pude localizar el archivo config.txt\")\n",
    "\n",
    "\n",
    "if __name__ == '__main__':\n",
    "    main()"
   ]
  },
  {
   "cell_type": "code",
   "execution_count": 2,
   "metadata": {},
   "outputs": [],
   "source": [
    "# Tercer ejercicio\n",
    "\n",
    "def main():\n",
    "    try:\n",
    "        configuracion = open('config.txt')\n",
    "    except FileNotFoundError:\n",
    "        print(\"No pude localizar el archivo config.txt\")\n",
    "    except IsADirectoryError:\n",
    "        print(\"Localicé config.txt pero es una carpeta, imposible leer\")"
   ]
  },
  {
   "cell_type": "code",
   "execution_count": 3,
   "metadata": {},
   "outputs": [],
   "source": [
    "# Cuarto ejercicio\n",
    "\n",
    "def main():\n",
    "    try:\n",
    "        configuracion = open('config.txt')\n",
    "    except FileNotFoundError:\n",
    "        print(\"No pude localizar el archivo config.txt\")\n",
    "    except IsADirectoryError:\n",
    "        print(\"Localicé config.txt pero es una carpeta, imposible leer\")\n",
    "    except (BlockingIOError, TimeoutError):\n",
    "        print(\"Archivo de sistema sobrecargado, Imposible completar lectura del archivo\")"
   ]
  },
  {
   "cell_type": "code",
   "execution_count": 4,
   "metadata": {},
   "outputs": [
    {
     "name": "stdout",
     "output_type": "stream",
     "text": [
      "Problema tratando de leer el archivo: [Errno 2] No such file or directory: 'mars.jpg'\n"
     ]
    }
   ],
   "source": [
    "# Quinto ejercicio\n",
    "\n",
    "try:\n",
    "    open(\"mars.jpg\")\n",
    "except FileNotFoundError as err:\n",
    "    print(\"Problema tratando de leer el archivo:\", err)\n",
    "    "
   ]
  },
  {
   "cell_type": "code",
   "execution_count": 5,
   "metadata": {},
   "outputs": [
    {
     "name": "stdout",
     "output_type": "stream",
     "text": [
      "No pude localizar el archivo config.txt\n"
     ]
    }
   ],
   "source": [
    "# Sexto ejercicio\n",
    "\n",
    "try:\n",
    "    open(\"config.txt\")\n",
    "except OSError as err:\n",
    "    if err.errno == 2:\n",
    "        print(\"No pude localizar el archivo config.txt\")\n",
    "    elif err.errno == 13:\n",
    "        print(\"Encontré config.txt pero no puedo leerlo\")"
   ]
  },
  {
   "cell_type": "code",
   "execution_count": 7,
   "metadata": {},
   "outputs": [
    {
     "data": {
      "text/plain": [
       "'El agua total que queda despues de 10 días es: -1110 litros'"
      ]
     },
     "execution_count": 7,
     "metadata": {},
     "output_type": "execute_result"
    }
   ],
   "source": [
    "# Séptimo ejercicio\n",
    "\n",
    "def aguaR(astronautas, aguaRestante, diasRes):\n",
    "    usoDiario = astronautas * 11\n",
    "    totalUso = usoDiario * diasRes\n",
    "    totalRestante = aguaRestante - totalUso\n",
    "    return f\"El agua total que queda despues de {diasRes} días es: {totalRestante} litros\"\n",
    "\n",
    "aguaR(11,100,10)\n"
   ]
  },
  {
   "cell_type": "code",
   "execution_count": 10,
   "metadata": {},
   "outputs": [
    {
     "ename": "RuntimeError",
     "evalue": "No hay suficiente agua para 11 astronautas después de 10 días",
     "output_type": "error",
     "traceback": [
      "\u001b[1;31m---------------------------------------------------------------------------\u001b[0m",
      "\u001b[1;31mRuntimeError\u001b[0m                              Traceback (most recent call last)",
      "\u001b[1;32mc:\\Users\\mexmo\\Dropbox\\Mi PC (BravoGamer)\\Desktop\\LaunchX\\Modulo10-Katas.ipynb Cell 9'\u001b[0m in \u001b[0;36m<module>\u001b[1;34m\u001b[0m\n\u001b[0;32m      <a href='vscode-notebook-cell:/c%3A/Users/mexmo/Dropbox/Mi%20PC%20%28BravoGamer%29/Desktop/LaunchX/Modulo10-Katas.ipynb#ch0000008?line=7'>8</a>\u001b[0m         \u001b[39mraise\u001b[39;00m \u001b[39mRuntimeError\u001b[39;00m(\u001b[39mf\u001b[39m\u001b[39m\"\u001b[39m\u001b[39mNo hay suficiente agua para \u001b[39m\u001b[39m{\u001b[39;00mastronautas\u001b[39m}\u001b[39;00m\u001b[39m astronautas después de \u001b[39m\u001b[39m{\u001b[39;00mdiasRes\u001b[39m}\u001b[39;00m\u001b[39m días\u001b[39m\u001b[39m\"\u001b[39m)\n\u001b[0;32m      <a href='vscode-notebook-cell:/c%3A/Users/mexmo/Dropbox/Mi%20PC%20%28BravoGamer%29/Desktop/LaunchX/Modulo10-Katas.ipynb#ch0000008?line=8'>9</a>\u001b[0m     \u001b[39mreturn\u001b[39;00m \u001b[39mf\u001b[39m\u001b[39m\"\u001b[39m\u001b[39mEl agua total que queda despues de \u001b[39m\u001b[39m{\u001b[39;00mdiasRes\u001b[39m}\u001b[39;00m\u001b[39m días es: \u001b[39m\u001b[39m{\u001b[39;00mtotalRestante\u001b[39m}\u001b[39;00m\u001b[39m litros\u001b[39m\u001b[39m\"\u001b[39m\n\u001b[1;32m---> <a href='vscode-notebook-cell:/c%3A/Users/mexmo/Dropbox/Mi%20PC%20%28BravoGamer%29/Desktop/LaunchX/Modulo10-Katas.ipynb#ch0000008?line=10'>11</a>\u001b[0m aguaR(\u001b[39m11\u001b[39;49m,\u001b[39m100\u001b[39;49m,\u001b[39m10\u001b[39;49m)\n",
      "\u001b[1;32mc:\\Users\\mexmo\\Dropbox\\Mi PC (BravoGamer)\\Desktop\\LaunchX\\Modulo10-Katas.ipynb Cell 9'\u001b[0m in \u001b[0;36maguaR\u001b[1;34m(astronautas, aguaRestante, diasRes)\u001b[0m\n\u001b[0;32m      <a href='vscode-notebook-cell:/c%3A/Users/mexmo/Dropbox/Mi%20PC%20%28BravoGamer%29/Desktop/LaunchX/Modulo10-Katas.ipynb#ch0000008?line=5'>6</a>\u001b[0m totalRestante \u001b[39m=\u001b[39m aguaRestante \u001b[39m-\u001b[39m totalUso\n\u001b[0;32m      <a href='vscode-notebook-cell:/c%3A/Users/mexmo/Dropbox/Mi%20PC%20%28BravoGamer%29/Desktop/LaunchX/Modulo10-Katas.ipynb#ch0000008?line=6'>7</a>\u001b[0m \u001b[39mif\u001b[39;00m totalRestante \u001b[39m<\u001b[39m \u001b[39m0\u001b[39m:\n\u001b[1;32m----> <a href='vscode-notebook-cell:/c%3A/Users/mexmo/Dropbox/Mi%20PC%20%28BravoGamer%29/Desktop/LaunchX/Modulo10-Katas.ipynb#ch0000008?line=7'>8</a>\u001b[0m     \u001b[39mraise\u001b[39;00m \u001b[39mRuntimeError\u001b[39;00m(\u001b[39mf\u001b[39m\u001b[39m\"\u001b[39m\u001b[39mNo hay suficiente agua para \u001b[39m\u001b[39m{\u001b[39;00mastronautas\u001b[39m}\u001b[39;00m\u001b[39m astronautas después de \u001b[39m\u001b[39m{\u001b[39;00mdiasRes\u001b[39m}\u001b[39;00m\u001b[39m días\u001b[39m\u001b[39m\"\u001b[39m)\n\u001b[0;32m      <a href='vscode-notebook-cell:/c%3A/Users/mexmo/Dropbox/Mi%20PC%20%28BravoGamer%29/Desktop/LaunchX/Modulo10-Katas.ipynb#ch0000008?line=8'>9</a>\u001b[0m \u001b[39mreturn\u001b[39;00m \u001b[39mf\u001b[39m\u001b[39m\"\u001b[39m\u001b[39mEl agua total que queda despues de \u001b[39m\u001b[39m{\u001b[39;00mdiasRes\u001b[39m}\u001b[39;00m\u001b[39m días es: \u001b[39m\u001b[39m{\u001b[39;00mtotalRestante\u001b[39m}\u001b[39;00m\u001b[39m litros\u001b[39m\u001b[39m\"\u001b[39m\n",
      "\u001b[1;31mRuntimeError\u001b[0m: No hay suficiente agua para 11 astronautas después de 10 días"
     ]
    }
   ],
   "source": [
    "# Octavo ejercicio\n",
    "\n",
    "def aguaR(astronautas, aguaRestante, diasRes):\n",
    "    usoDiario = astronautas * 11\n",
    "    totalUso = usoDiario * diasRes\n",
    "    totalRestante = aguaRestante - totalUso\n",
    "    if totalRestante < 0:\n",
    "        raise RuntimeError(f\"No hay suficiente agua para {astronautas} astronautas después de {diasRes} días\")\n",
    "    return f\"El agua total que queda despues de {diasRes} días es: {totalRestante} litros\"\n",
    "    \n",
    "aguaR(11,100,10)"
   ]
  },
  {
   "cell_type": "code",
   "execution_count": 14,
   "metadata": {},
   "outputs": [
    {
     "ename": "TypeError",
     "evalue": "Todos los argumentos deben ser tipo int; se recibió: '11'",
     "output_type": "error",
     "traceback": [
      "\u001b[1;31m---------------------------------------------------------------------------\u001b[0m",
      "\u001b[1;31mTypeError\u001b[0m                                 Traceback (most recent call last)",
      "\u001b[1;32mc:\\Users\\mexmo\\Dropbox\\Mi PC (BravoGamer)\\Desktop\\LaunchX\\Modulo10-Katas.ipynb Cell 10'\u001b[0m in \u001b[0;36maguaR\u001b[1;34m(astronautas, aguaRestante, diasRes)\u001b[0m\n\u001b[0;32m      <a href='vscode-notebook-cell:/c%3A/Users/mexmo/Dropbox/Mi%20PC%20%28BravoGamer%29/Desktop/LaunchX/Modulo10-Katas.ipynb#ch0000009?line=4'>5</a>\u001b[0m \u001b[39mtry\u001b[39;00m:\n\u001b[0;32m      <a href='vscode-notebook-cell:/c%3A/Users/mexmo/Dropbox/Mi%20PC%20%28BravoGamer%29/Desktop/LaunchX/Modulo10-Katas.ipynb#ch0000009?line=5'>6</a>\u001b[0m     \u001b[39m# Si el argumento es int, se ejecutará la siguiente operación\u001b[39;00m\n\u001b[1;32m----> <a href='vscode-notebook-cell:/c%3A/Users/mexmo/Dropbox/Mi%20PC%20%28BravoGamer%29/Desktop/LaunchX/Modulo10-Katas.ipynb#ch0000009?line=6'>7</a>\u001b[0m     argumento \u001b[39m/\u001b[39;49m \u001b[39m10\u001b[39;49m           \n\u001b[0;32m      <a href='vscode-notebook-cell:/c%3A/Users/mexmo/Dropbox/Mi%20PC%20%28BravoGamer%29/Desktop/LaunchX/Modulo10-Katas.ipynb#ch0000009?line=7'>8</a>\u001b[0m \u001b[39mexcept\u001b[39;00m \u001b[39mTypeError\u001b[39;00m:\n\u001b[0;32m      <a href='vscode-notebook-cell:/c%3A/Users/mexmo/Dropbox/Mi%20PC%20%28BravoGamer%29/Desktop/LaunchX/Modulo10-Katas.ipynb#ch0000009?line=8'>9</a>\u001b[0m     \u001b[39m#TypeError se mostrará sólo si no es del tipo correcto\u001b[39;00m\n",
      "\u001b[1;31mTypeError\u001b[0m: unsupported operand type(s) for /: 'str' and 'int'",
      "\nDuring handling of the above exception, another exception occurred:\n",
      "\u001b[1;31mTypeError\u001b[0m                                 Traceback (most recent call last)",
      "\u001b[1;32mc:\\Users\\mexmo\\Dropbox\\Mi PC (BravoGamer)\\Desktop\\LaunchX\\Modulo10-Katas.ipynb Cell 10'\u001b[0m in \u001b[0;36m<module>\u001b[1;34m\u001b[0m\n\u001b[0;32m     <a href='vscode-notebook-cell:/c%3A/Users/mexmo/Dropbox/Mi%20PC%20%28BravoGamer%29/Desktop/LaunchX/Modulo10-Katas.ipynb#ch0000009?line=14'>15</a>\u001b[0m         \u001b[39mraise\u001b[39;00m \u001b[39mRuntimeError\u001b[39;00m(\u001b[39mf\u001b[39m\u001b[39m\"\u001b[39m\u001b[39mNo hay suficiente agua para \u001b[39m\u001b[39m{\u001b[39;00mastronautas\u001b[39m}\u001b[39;00m\u001b[39m astronautas después de \u001b[39m\u001b[39m{\u001b[39;00mdiasRes\u001b[39m}\u001b[39;00m\u001b[39m días\u001b[39m\u001b[39m\"\u001b[39m)\n\u001b[0;32m     <a href='vscode-notebook-cell:/c%3A/Users/mexmo/Dropbox/Mi%20PC%20%28BravoGamer%29/Desktop/LaunchX/Modulo10-Katas.ipynb#ch0000009?line=15'>16</a>\u001b[0m     \u001b[39mreturn\u001b[39;00m \u001b[39mf\u001b[39m\u001b[39m\"\u001b[39m\u001b[39mEl agua total que queda despues de \u001b[39m\u001b[39m{\u001b[39;00mdiasRes\u001b[39m}\u001b[39;00m\u001b[39m días es: \u001b[39m\u001b[39m{\u001b[39;00mtotalRestante\u001b[39m}\u001b[39;00m\u001b[39m litros\u001b[39m\u001b[39m\"\u001b[39m\n\u001b[1;32m---> <a href='vscode-notebook-cell:/c%3A/Users/mexmo/Dropbox/Mi%20PC%20%28BravoGamer%29/Desktop/LaunchX/Modulo10-Katas.ipynb#ch0000009?line=17'>18</a>\u001b[0m aguaR(\u001b[39m\"\u001b[39;49m\u001b[39m11\u001b[39;49m\u001b[39m\"\u001b[39;49m,\u001b[39m\"\u001b[39;49m\u001b[39m100\u001b[39;49m\u001b[39m\"\u001b[39;49m,\u001b[39mNone\u001b[39;49;00m)\n",
      "\u001b[1;32mc:\\Users\\mexmo\\Dropbox\\Mi PC (BravoGamer)\\Desktop\\LaunchX\\Modulo10-Katas.ipynb Cell 10'\u001b[0m in \u001b[0;36maguaR\u001b[1;34m(astronautas, aguaRestante, diasRes)\u001b[0m\n\u001b[0;32m      <a href='vscode-notebook-cell:/c%3A/Users/mexmo/Dropbox/Mi%20PC%20%28BravoGamer%29/Desktop/LaunchX/Modulo10-Katas.ipynb#ch0000009?line=6'>7</a>\u001b[0m         argumento \u001b[39m/\u001b[39m \u001b[39m10\u001b[39m           \n\u001b[0;32m      <a href='vscode-notebook-cell:/c%3A/Users/mexmo/Dropbox/Mi%20PC%20%28BravoGamer%29/Desktop/LaunchX/Modulo10-Katas.ipynb#ch0000009?line=7'>8</a>\u001b[0m     \u001b[39mexcept\u001b[39;00m \u001b[39mTypeError\u001b[39;00m:\n\u001b[0;32m      <a href='vscode-notebook-cell:/c%3A/Users/mexmo/Dropbox/Mi%20PC%20%28BravoGamer%29/Desktop/LaunchX/Modulo10-Katas.ipynb#ch0000009?line=8'>9</a>\u001b[0m         \u001b[39m#TypeError se mostrará sólo si no es del tipo correcto\u001b[39;00m\n\u001b[1;32m---> <a href='vscode-notebook-cell:/c%3A/Users/mexmo/Dropbox/Mi%20PC%20%28BravoGamer%29/Desktop/LaunchX/Modulo10-Katas.ipynb#ch0000009?line=9'>10</a>\u001b[0m         \u001b[39mraise\u001b[39;00m \u001b[39mTypeError\u001b[39;00m(\u001b[39mf\u001b[39m\u001b[39m\"\u001b[39m\u001b[39mTodos los argumentos deben ser tipo int; se recibió: \u001b[39m\u001b[39m'\u001b[39m\u001b[39m{\u001b[39;00margumento\u001b[39m}\u001b[39;00m\u001b[39m'\u001b[39m\u001b[39m\"\u001b[39m)\n\u001b[0;32m     <a href='vscode-notebook-cell:/c%3A/Users/mexmo/Dropbox/Mi%20PC%20%28BravoGamer%29/Desktop/LaunchX/Modulo10-Katas.ipynb#ch0000009?line=10'>11</a>\u001b[0m usoDiario \u001b[39m=\u001b[39m astronautas \u001b[39m*\u001b[39m \u001b[39m11\u001b[39m\n\u001b[0;32m     <a href='vscode-notebook-cell:/c%3A/Users/mexmo/Dropbox/Mi%20PC%20%28BravoGamer%29/Desktop/LaunchX/Modulo10-Katas.ipynb#ch0000009?line=11'>12</a>\u001b[0m totalUso \u001b[39m=\u001b[39m usoDiario \u001b[39m*\u001b[39m diasRes\n",
      "\u001b[1;31mTypeError\u001b[0m: Todos los argumentos deben ser tipo int; se recibió: '11'"
     ]
    }
   ],
   "source": [
    "# Noveno ejercicio\n",
    "\n",
    "def aguaR(astronautas, aguaRestante, diasRes):\n",
    "    for argumento in [astronautas, aguaRestante, diasRes]:\n",
    "        try:\n",
    "            # Si el argumento es int, se ejecutará la siguiente operación\n",
    "            argumento / 10           \n",
    "        except TypeError:\n",
    "            #TypeError se mostrará sólo si no es del tipo correcto\n",
    "            raise TypeError(f\"Todos los argumentos deben ser tipo int; se recibió: '{argumento}'\")\n",
    "    usoDiario = astronautas * 11\n",
    "    totalUso = usoDiario * diasRes\n",
    "    totalRestante = aguaRestante - totalUso\n",
    "    if totalRestante < 0:\n",
    "        raise RuntimeError(f\"No hay suficiente agua para {astronautas} astronautas después de {diasRes} días\")\n",
    "    return f\"El agua total que queda despues de {diasRes} días es: {totalRestante} litros\"\n",
    "    \n",
    "aguaR(\"11\",\"100\",None)"
   ]
  }
 ],
 "metadata": {
  "interpreter": {
   "hash": "99679c7bdf2971132091734e01a4b094f10e5a3c524bca2f59a40708d912caf0"
  },
  "kernelspec": {
   "display_name": "Python 3.10.2 64-bit (windows store)",
   "language": "python",
   "name": "python3"
  },
  "language_info": {
   "codemirror_mode": {
    "name": "ipython",
    "version": 3
   },
   "file_extension": ".py",
   "mimetype": "text/x-python",
   "name": "python",
   "nbconvert_exporter": "python",
   "pygments_lexer": "ipython3",
   "version": "3.10.2"
  },
  "orig_nbformat": 4
 },
 "nbformat": 4,
 "nbformat_minor": 2
}
