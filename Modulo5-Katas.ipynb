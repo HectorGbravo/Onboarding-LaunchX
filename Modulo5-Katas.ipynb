{
 "cells": [
  {
   "cell_type": "markdown",
   "metadata": {},
   "source": [
    "## Módulo 5 - Utilizar operaciones matemáticas\n",
    "\n",
    "### Ejercicio1 - Utilizar operadores aritméticos\n",
    "\n",
    "### Operadores aritméticos en Python"
   ]
  },
  {
   "cell_type": "code",
   "execution_count": 3,
   "metadata": {},
   "outputs": [
    {
     "name": "stdout",
     "output_type": "stream",
     "text": [
      "628949330\n",
      "390577534\n"
     ]
    }
   ],
   "source": [
    "##  crear un programa que pueda calcular la distancia entre dos planetas. \n",
    "## Comenzaremos usando dos distancias de planetas: Tierra (149.597.870 km) y Júpiter (778.547.200 km).\n",
    "\n",
    "disTierra = 149597870\n",
    "disJupiter = 778547200\n",
    "\n",
    "## Realizar la operación\n",
    "## Con los valores obtenidos, es el momento de añadir el código para realizar la operación. \n",
    "## Restarás el primer planeta del segundo para determinar la distancia en kilómetros.  \n",
    "## A continuación, puedes convertir la distancia del kilómetro en millas multiplicándola por 0.621.\n",
    "\n",
    "disPlanetasKm = disJupiter - disTierra\n",
    "disPlanetasMi = (disPlanetasKm)*0.621\n",
    "print(disPlanetasKm)\n",
    "print(round(disPlanetasMi))\n"
   ]
  },
  {
   "cell_type": "markdown",
   "metadata": {},
   "source": [
    "## Ejercicio 2: convierte cadenas en números y usa valores absolutos\n",
    "\n",
    "Crear una aplicación para trabajar con números y entrada de usuario\n",
    "\n",
    "Con frecuencia, deberás convertir los valores de cadena en números para realizar correctamente diferentes operaciones o determinar el valor absoluto de un número."
   ]
  },
  {
   "cell_type": "code",
   "execution_count": 10,
   "metadata": {},
   "outputs": [
    {
     "name": "stdout",
     "output_type": "stream",
     "text": [
      "La distancia entre Venus y Urano es de 2764300000 kms\n",
      "Además, La distancia entre Venus y Urano es de 1716630300.0 millas\n"
     ]
    }
   ],
   "source": [
    "##  Este programa calculará la distancia entre los puntos mas cercanos entre los planetas,\n",
    "##  tomando como referencia la distancia de todos los planetas respecto al Sol.  \n",
    "##  La fuente de datos se obtuvo del portal Muyinteresante.com.\n",
    "\n",
    "planetas = [\"Mercurio\", \"Venus\", \"Tierra\", \"Marte\", \"Jupiter\", \"Saturno\", \"Urano\", \"Neptuno\"]\n",
    "disPlanetas = [57900000, 108200000, 149600000, 227900000, 778600000, 1433500000, 2872500000, 4495100000]\n",
    "\n",
    "planetaA = input(\"Cual es su primer planeta: \")\n",
    "planetaB = input(\"Cual es su segundo planeta:\")\n",
    "\n",
    "indiceA = planetas.index(planetaA)\n",
    "indiceB = planetas.index(planetaB)\n",
    "\n",
    "DisEntrePlanetasKm = abs(disPlanetas[indiceA]-disPlanetas[indiceB])\n",
    "DisEntrePlanetasMi = abs(disPlanetas[indiceA]-disPlanetas[indiceB])*0.621\n",
    "\n",
    "print( f'La distancia entre {planetaA} y {planetaB} es de {DisEntrePlanetasKm} kms')\n",
    "print( f'Además, La distancia entre {planetaA} y {planetaB} es de {DisEntrePlanetasMi} millas')\n",
    "\n"
   ]
  }
 ],
 "metadata": {
  "interpreter": {
   "hash": "99679c7bdf2971132091734e01a4b094f10e5a3c524bca2f59a40708d912caf0"
  },
  "kernelspec": {
   "display_name": "Python 3.10.2 64-bit (windows store)",
   "language": "python",
   "name": "python3"
  },
  "language_info": {
   "codemirror_mode": {
    "name": "ipython",
    "version": 3
   },
   "file_extension": ".py",
   "mimetype": "text/x-python",
   "name": "python",
   "nbconvert_exporter": "python",
   "pygments_lexer": "ipython3",
   "version": "3.10.2"
  },
  "orig_nbformat": 4
 },
 "nbformat": 4,
 "nbformat_minor": 2
}
