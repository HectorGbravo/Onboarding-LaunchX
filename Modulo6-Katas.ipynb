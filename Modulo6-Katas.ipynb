{
 "cells": [
  {
   "cell_type": "markdown",
   "metadata": {},
   "source": [
    "## Módulo 6 - Introducción a las listas\n",
    "\n",
    "Ejercicio1: Crear y usar listas de Python\n",
    "\n",
    "Ejercicio: Usar listas para almacenar nombres de planetas\n",
    "\n",
    "Las listas permiten almacenar varios valores en una sola variable. Comenzarás un proyecto sobre información planetaria creando una lista de planetas."
   ]
  },
  {
   "cell_type": "code",
   "execution_count": 1,
   "metadata": {},
   "outputs": [
    {
     "name": "stdout",
     "output_type": "stream",
     "text": [
      "9\n",
      "Pluton\n"
     ]
    }
   ],
   "source": [
    "## En primer lugar, crea una variable denominada planets. Agrega los ocho planetas (sin Plutón) a la lista. \n",
    "## A continuación, muestra el número de planetas.\n",
    "\n",
    "planets = [\"Mercurio\", \"Venus\", \"Tierra\", \"Marte\", \"Jupiter\", \"Saturno\", \"Urano\", \"Neptuno\"]\n",
    "\n",
    "## Agrega a Plutón a la lista que creaste. \n",
    "## Luego muestra tanto el número de planetas como el último planeta de la lista.\n",
    "\n",
    "planets.append(\"Pluton\")\n",
    "\n",
    "print(len(planets))\n",
    "print(planets[-1])\n"
   ]
  },
  {
   "cell_type": "markdown",
   "metadata": {},
   "source": [
    "## Ejercicio 2: Trabajando con datos de una lista\n",
    "\n",
    "Usar slices para recuperar partes de una lista\n",
    "\n",
    "Es posible que debas trabajar con diferentes secciones de una lista. En nuestro ejemplo, queremos mostrar planetas más cerca y más lejos del sol de un planeta que el usuario ingresa por teclado."
   ]
  },
  {
   "cell_type": "code",
   "execution_count": 10,
   "metadata": {},
   "outputs": [
    {
     "name": "stdout",
     "output_type": "stream",
     "text": [
      "El planeta que elegiste es: Marte \n",
      "\n",
      "Los planetas mas cercanos al Sol que el ingresado son : ['Mercurio', 'Venus', 'Tierra'] \n",
      "\n",
      "Los planetas mas alejados al sol que el ingresado son : ['Jupiter', 'Saturno', 'Urano', 'Neptuno']\n"
     ]
    }
   ],
   "source": [
    "# Comienza agregando el código para crear una lista con los planetas.\n",
    "\n",
    "planetas = [\"Mercurio\", \"Venus\", \"Tierra\", \"Marte\", \"Jupiter\", \"Saturno\", \"Urano\", \"Neptuno\"]\n",
    "# Solicita al usuario el nombre de un planeta\n",
    "# A continuación, agrega el código para solicitar al usuario un nombre. \n",
    "# Debido a que las cadenas distinguen entre mayúsculas y minúsculas en Python, \n",
    "# pídale al usuario que use una letra mayúscula para comenzar el nombre del planeta.\n",
    "\n",
    "planeta = input('Por favor introduzca un planeta comenzando con mayúscula ejemplo: Venus --> ')\n",
    "\n",
    "print(f\"El planeta que elegiste es: {planeta} \\n\")\n",
    "# Encuentra el planeta en la lista\n",
    "# Para determinar qué planetas están más cerca que el que ingresó el usuario, \n",
    "# debes encontrar dónde está el planeta en la lista. \n",
    "# Puedes utilizar index para realizar esta operación. \n",
    "# Agrega el código para encontrar el índice del planeta.\n",
    "\n",
    "planetaLoc = planetas.index(planeta)\n",
    "planetaLoc\n",
    "\n",
    "# Mostrar planetas más cercanos al sol que el que el usuario ingresó\n",
    "# Con el índice determinado, ahora puedes agregar el código para mostrar los planetas más cercanos al sol.\n",
    "\n",
    "\n",
    "print( f\"Los planetas mas cercanos al Sol que el ingresado son : {planetas[0:planetaLoc]} \\n\")\n",
    "\n",
    "# Mostrar planetas más alejados del sol que el que el usuario ingresó\n",
    "# Puedes usar el mismo índice para mostrar planetas más alejados del sol. \n",
    "# Sin embargo, recuerda que el índice inicial se incluye cuando usas un slice. \n",
    "# Como resultado, tendrás que agregar 1 al valor. \n",
    "# Agrega el código para mostrar los planetas más alejados del sol.\n",
    "\n",
    "print( f\"Los planetas mas alejados al sol que el ingresado son : {planetas[planetaLoc+1:len(planetas)]}\")\n",
    "\n"
   ]
  }
 ],
 "metadata": {
  "interpreter": {
   "hash": "99679c7bdf2971132091734e01a4b094f10e5a3c524bca2f59a40708d912caf0"
  },
  "kernelspec": {
   "display_name": "Python 3.10.2 64-bit (windows store)",
   "language": "python",
   "name": "python3"
  },
  "language_info": {
   "codemirror_mode": {
    "name": "ipython",
    "version": 3
   },
   "file_extension": ".py",
   "mimetype": "text/x-python",
   "name": "python",
   "nbconvert_exporter": "python",
   "pygments_lexer": "ipython3",
   "version": "3.10.2"
  },
  "orig_nbformat": 4
 },
 "nbformat": 4,
 "nbformat_minor": 2
}
