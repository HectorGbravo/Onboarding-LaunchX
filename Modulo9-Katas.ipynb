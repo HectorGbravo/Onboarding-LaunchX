{
 "cells": [
  {
   "cell_type": "markdown",
   "metadata": {},
   "source": [
    "## Módulo 9 - Funciones\n",
    "\n",
    "Ejercicio: Uso de funciones en Python\n",
    "\n",
    "Ejercicio 1: Trabajar con argumentos en funciones\n",
    "\n",
    "Los argumentos requeridos en las funciones se utilizan cuando las funciones necesitan que esos argumentos funcionen correctamente. En este ejercicio, construirás un informe de combustible que requiere información de varias ubicaciones de combustible en todo el cohete."
   ]
  },
  {
   "cell_type": "code",
   "execution_count": 1,
   "metadata": {},
   "outputs": [
    {
     "name": "stdout",
     "output_type": "stream",
     "text": [
      "Reporte de Tanques de combustible:\n",
      "    Promedio de los tanques: 20.0%\n",
      "    Tanque 1               : 10%\n",
      "    Tanque 2               : 20%\n",
      "    Tanque 3               : 30%\n",
      "    \n"
     ]
    }
   ],
   "source": [
    "# Comienza por crear una función que necesite tres lecturas de combustible y devuelva un informe:\n",
    "\n",
    "# Función para leer 3 tanques de combustible y muestre el promedio\n",
    "\n",
    "def promTanqueCohete(tanqueA, tanqueB, tanqueC):\n",
    "    prom = (tanqueA+tanqueB+tanqueC)/3\n",
    "    return f\"\"\"Reporte de Tanques de combustible:\n",
    "    Promedio de los tanques: {prom}%\n",
    "    Tanque 1               : {tanqueA}%\n",
    "    Tanque 2               : {tanqueB}%\n",
    "    Tanque 3               : {tanqueC}%\n",
    "    \"\"\"\n",
    "\n",
    "print(promTanqueCohete(10,20,30))"
   ]
  },
  {
   "cell_type": "code",
   "execution_count": 3,
   "metadata": {},
   "outputs": [
    {
     "name": "stdout",
     "output_type": "stream",
     "text": [
      "30.0\n"
     ]
    }
   ],
   "source": [
    "# Se realiza una funcion promedio\n",
    "\n",
    "def promedio(valores):\n",
    "    total = sum(valores)\n",
    "    numItems = len(valores)\n",
    "    return total / numItems\n",
    "\n",
    "print(promedio([20,30,20,50]))\n",
    "\n"
   ]
  },
  {
   "cell_type": "code",
   "execution_count": 4,
   "metadata": {},
   "outputs": [
    {
     "name": "stdout",
     "output_type": "stream",
     "text": [
      "Reporte de Tanques de combustible:\n",
      "    Promedio de los tanques: 20.0\n",
      "    Tanque 1               : 10%\n",
      "    Tanque 2               : 20%\n",
      "    Tanque 3               : 30%\n",
      "    \n"
     ]
    }
   ],
   "source": [
    "# Se actualiza la función promTanqueCohete\n",
    "\n",
    "def promTanqueCohete(tanqueA, tanqueB, tanqueC):\n",
    "    return f\"\"\"Reporte de Tanques de combustible:\n",
    "    Promedio de los tanques: {promedio([tanqueA, tanqueB, tanqueC])}\n",
    "    Tanque 1               : {tanqueA}%\n",
    "    Tanque 2               : {tanqueB}%\n",
    "    Tanque 3               : {tanqueC}%\n",
    "    \"\"\"\n",
    "print(promTanqueCohete(10,20,30))"
   ]
  },
  {
   "cell_type": "markdown",
   "metadata": {},
   "source": [
    "# Ejercicio 2: Trabajo con argumentos de palabra clave\n",
    "\n",
    "Ejercicio : Trabajar con argumentos de palabras clave en funciones\n",
    "\n",
    "En este ejercicio, construirás un informe de cohete que requiere varias piezas de información, como el tiempo hasta el destino, el combustible a la izquierda y el nombre del destino. Comienza por crear una función que creará un informe preciso de la misión:"
   ]
  },
  {
   "cell_type": "code",
   "execution_count": 8,
   "metadata": {},
   "outputs": [
    {
     "name": "stdout",
     "output_type": "stream",
     "text": [
      "\n",
      "    Mision a:                    Luna\n",
      "    Tiempo total de viaje:       65 minutos\n",
      "    Total combustible restante:  750000 litros\n",
      "    \n"
     ]
    }
   ],
   "source": [
    "# Función con un informe preciso de la misión. \n",
    "# Considera hora de prelanzamiento, tiempo de vuelo, destino, tanque externo y tanque interno\n",
    "\n",
    "def repMision(horaPreLx, tiempoVuelo, destino, tanqueExt, tanqueInt):\n",
    "    return f\"\"\"\n",
    "    Mision a:                    {destino}\n",
    "    Tiempo total de viaje:       {horaPreLx + tiempoVuelo} minutos\n",
    "    Total combustible restante:  {tanqueExt + tanqueInt} litros\n",
    "    \"\"\"\n",
    "\n",
    "print(repMision(14, 51, \"Luna\", 300000, 450000))"
   ]
  },
  {
   "cell_type": "code",
   "execution_count": 11,
   "metadata": {},
   "outputs": [
    {
     "name": "stdout",
     "output_type": "stream",
     "text": [
      "\n",
      "    Mision a:                   Luna\n",
      "    Tiempo total de viaje:      76 minutos\n",
      "    Total combustible restante: 500000\n",
      "    \n"
     ]
    }
   ],
   "source": [
    "# La función es problemática porque no se puede adaptar para minutos adicionales o tanques adicionales de combustible. \n",
    "# Hazlo más flexible permitiendo cualquier número de pasos basados en el tiempo y cualquier número de tanques. \n",
    "# En lugar de usar *args y **kwargs, aprovecha el hecho de que puedes usar cualquier nombre que desees. \n",
    "# Asegurate que la función sea más legible mediante el uso de nombres de variables que están asociados \n",
    "# con las entradas, como *minutos y **reservaC:\n",
    "\n",
    "# Escribe tu nueva función de reporte considerando lo anterior\n",
    "\n",
    "def repMision(destino, *minutos, **reservaC):\n",
    "    return f\"\"\"\n",
    "    Mision a:                   {destino}\n",
    "    Tiempo total de viaje:      {sum(minutos)} minutos\n",
    "    Total combustible restante: {sum(reservaC.values())}\n",
    "    \"\"\"\n",
    "\n",
    "print(repMision(\"Luna\", 10, 15, 51, principal=300000, externo=200000))"
   ]
  },
  {
   "cell_type": "code",
   "execution_count": 17,
   "metadata": {},
   "outputs": [
    {
     "name": "stdout",
     "output_type": "stream",
     "text": [
      "\n",
      "    Mision a:                   Luna\n",
      "    Tiempo total de viaje:      76 minutos\n",
      "    Total combustible restante: 510000\n",
      "    \n",
      "Tanque principal --> 300000 litros restantes\n",
      "Tanque secundario --> 10000 litros restantes\n",
      "Tanque externo --> 200000 litros restantes\n"
     ]
    }
   ],
   "source": [
    "# Debido a que el combustible que queda en los tanques es específico de cada tanque, \n",
    "# actualiza la función para usar el nombre de cada tanque en el informe:\n",
    "\n",
    "def repMision(destino, *minutos, **reservaC):\n",
    "    reportePrincipal = f\"\"\"\n",
    "    Mision a:                   {destino}\n",
    "    Tiempo total de viaje:      {sum(minutos)} minutos\n",
    "    Total combustible restante: {sum(reservaC.values())}\n",
    "    \"\"\"\n",
    "    for nombreTanque, litros in reservaC.items():\n",
    "        reportePrincipal += f\"\\nTanque {nombreTanque} --> {litros} litros restantes\"\n",
    "    return reportePrincipal\n",
    "\n",
    "print(repMision(\"Luna\", 10, 15, 51, principal=300000, secundario= 10000, externo=200000))"
   ]
  }
 ],
 "metadata": {
  "interpreter": {
   "hash": "99679c7bdf2971132091734e01a4b094f10e5a3c524bca2f59a40708d912caf0"
  },
  "kernelspec": {
   "display_name": "Python 3.10.2 64-bit (windows store)",
   "language": "python",
   "name": "python3"
  },
  "language_info": {
   "codemirror_mode": {
    "name": "ipython",
    "version": 3
   },
   "file_extension": ".py",
   "mimetype": "text/x-python",
   "name": "python",
   "nbconvert_exporter": "python",
   "pygments_lexer": "ipython3",
   "version": "3.10.2"
  },
  "orig_nbformat": 4
 },
 "nbformat": 4,
 "nbformat_minor": 2
}
